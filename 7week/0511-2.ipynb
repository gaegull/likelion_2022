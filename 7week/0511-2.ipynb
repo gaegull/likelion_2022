{
 "cells": [
  {
   "cell_type": "code",
   "execution_count": 6,
   "metadata": {},
   "outputs": [
    {
     "name": "stdout",
     "output_type": "stream",
     "text": [
      "메일 발송 성공\n"
     ]
    },
    {
     "data": {
      "text/plain": [
       "(221,\n",
       " b'2.0.0 closing connection a4-20020a17090aa50400b001cd4989feecsm3470568pjq.56 - gsmtp')"
      ]
     },
     "execution_count": 6,
     "metadata": {},
     "output_type": "execute_result"
    }
   ],
   "source": [
    "import smtplib\n",
    "from email.message import EmailMessage\n",
    "import imghdr\n",
    "import re\n",
    "SMTP_SERVER='smtp.gmail.com'\n",
    "SMTP_PORT=465\n",
    "\n",
    "def sendEmail(addr):\n",
    "    reg=\"^[a-zA-Z0-9.+_-]+@[a-zA-Z0-9]+\\.[a-zA-Z]{2,3}$\"\n",
    "    if bool(re.match(reg,addr)):\n",
    "        smtp.send_message(message)\n",
    "        print('메일 발송 성공')\n",
    "    else:\n",
    "        print('유효한 메일 주소 아님')\n",
    "    \n",
    "\n",
    "message=EmailMessage()\n",
    "message.set_content('이건 이메일입니다.')\n",
    "\n",
    "message['Subject']='이건 제목2'\n",
    "message['From']='lscy9999@gmail.com'\n",
    "message['To']='sangyi325@gmail.com'\n",
    "\n",
    "#image=open('codelion.png','rb')\n",
    "#with open('codelion.png','rb') as image:\n",
    "#    image_file=image.read()\n",
    "\n",
    "#image_type=imghdr.what('codelion',image_file)\n",
    "#message.add_attachment(image_file,maintype='image',subtype=image_type)\n",
    "\n",
    "smtp=smtplib.SMTP_SSL(SMTP_SERVER, SMTP_PORT)\n",
    "smtp.login('lscy9999@gmail.com','sangyi325')\n",
    "\n",
    "sendEmail('sangyi325@gmail.com')\n",
    "smtp.quit()"
   ]
  }
 ],
 "metadata": {
  "interpreter": {
   "hash": "ad99b504f8285f1928babc6d67200387d289853acdacbf10ec99c066a33bdff5"
  },
  "kernelspec": {
   "display_name": "Python 3.10.4 64-bit",
   "language": "python",
   "name": "python3"
  },
  "language_info": {
   "codemirror_mode": {
    "name": "ipython",
    "version": 3
   },
   "file_extension": ".py",
   "mimetype": "text/x-python",
   "name": "python",
   "nbconvert_exporter": "python",
   "pygments_lexer": "ipython3",
   "version": "3.10.4"
  },
  "orig_nbformat": 4
 },
 "nbformat": 4,
 "nbformat_minor": 2
}
