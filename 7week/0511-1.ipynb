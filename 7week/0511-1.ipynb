{
 "cells": [
  {
   "cell_type": "code",
   "execution_count": 1,
   "metadata": {},
   "outputs": [
    {
     "ename": "ModuleNotFoundError",
     "evalue": "No module named 'googletrans'",
     "output_type": "error",
     "traceback": [
      "\u001b[1;31m---------------------------------------------------------------------------\u001b[0m",
      "\u001b[1;31mModuleNotFoundError\u001b[0m                       Traceback (most recent call last)",
      "\u001b[1;32mc:\\Users\\LeeSang\\Desktop\\likelion\\7week\\0511.ipynb Cell 1'\u001b[0m in \u001b[0;36m<cell line: 1>\u001b[1;34m()\u001b[0m\n\u001b[1;32m----> <a href='vscode-notebook-cell:/c%3A/Users/LeeSang/Desktop/likelion/7week/0511.ipynb#ch0000000?line=0'>1</a>\u001b[0m \u001b[39mfrom\u001b[39;00m \u001b[39mgoogletrans\u001b[39;00m \u001b[39mimport\u001b[39;00m Translator\n\u001b[0;32m      <a href='vscode-notebook-cell:/c%3A/Users/LeeSang/Desktop/likelion/7week/0511.ipynb#ch0000000?line=1'>2</a>\u001b[0m Translator\u001b[39m=\u001b[39mTranslator()\n\u001b[0;32m      <a href='vscode-notebook-cell:/c%3A/Users/LeeSang/Desktop/likelion/7week/0511.ipynb#ch0000000?line=2'>3</a>\u001b[0m sentence\u001b[39m=\u001b[39m\u001b[39minput\u001b[39m(\u001b[39m'\u001b[39m\u001b[39m문장 입력: \u001b[39m\u001b[39m'\u001b[39m)\n",
      "\u001b[1;31mModuleNotFoundError\u001b[0m: No module named 'googletrans'"
     ]
    }
   ],
   "source": [
    "from googletrans import Translator\n",
    "Translator=Translator()\n",
    "sentence=input('문장 입력: ')\n",
    "detected=translator.detect(sentence)\n",
    "print(detected.lang)"
   ]
  },
  {
   "cell_type": "code",
   "execution_count": 2,
   "metadata": {},
   "outputs": [
    {
     "ename": "NameError",
     "evalue": "name 'translator' is not defined",
     "output_type": "error",
     "traceback": [
      "\u001b[1;31m---------------------------------------------------------------------------\u001b[0m",
      "\u001b[1;31mNameError\u001b[0m                                 Traceback (most recent call last)",
      "\u001b[1;32mc:\\Users\\LeeSang\\Desktop\\likelion\\7week\\0511.ipynb Cell 2'\u001b[0m in \u001b[0;36m<cell line: 2>\u001b[1;34m()\u001b[0m\n\u001b[0;32m      <a href='vscode-notebook-cell:/c%3A/Users/LeeSang/Desktop/likelion/7week/0511.ipynb#ch0000001?line=0'>1</a>\u001b[0m sentence\u001b[39m=\u001b[39m\u001b[39m'\u001b[39m\u001b[39m안녕하세요\u001b[39m\u001b[39m'\u001b[39m\n\u001b[1;32m----> <a href='vscode-notebook-cell:/c%3A/Users/LeeSang/Desktop/likelion/7week/0511.ipynb#ch0000001?line=1'>2</a>\u001b[0m result\u001b[39m=\u001b[39mtranslator\u001b[39m.\u001b[39mtranslate(sentence,\u001b[39m'\u001b[39m\u001b[39men\u001b[39m\u001b[39m'\u001b[39m)\n\u001b[0;32m      <a href='vscode-notebook-cell:/c%3A/Users/LeeSang/Desktop/likelion/7week/0511.ipynb#ch0000001?line=2'>3</a>\u001b[0m \u001b[39mprint\u001b[39m(result)\n",
      "\u001b[1;31mNameError\u001b[0m: name 'translator' is not defined"
     ]
    }
   ],
   "source": [
    "sentence='안녕하세요'\n",
    "result=translator.translate(sentence,'en')\n",
    "print(\"===========출 력 결 과===========\")\n",
    "print(detected.lsng,\":\",sentencd)\n",
    "print(result.dest,':',result.text)\n",
    "print(\"=================================\")\n"
   ]
  },
  {
   "cell_type": "code",
   "execution_count": null,
   "metadata": {},
   "outputs": [],
   "source": [
    "sentence = input(\"번역을 원하는 문장을 입력해주세요 : \")\n",
    "dest = input(\"어떤 언어로 번역을 원하시나요?: \")\n",
    "\n",
    "result = translator.translate(sentence,dest)\n",
    "detected = translator.detect(sentence)\n",
    "\n",
    "print(\"===========출 력 결 과===========\")\n",
    "print(detected.lang,\":\",sentence)\n",
    "print(result.dest,\":\",result.text)\n",
    "print(\"=================================\")"
   ]
  },
  {
   "cell_type": "code",
   "execution_count": null,
   "metadata": {},
   "outputs": [],
   "source": []
  }
 ],
 "metadata": {
  "interpreter": {
   "hash": "ad99b504f8285f1928babc6d67200387d289853acdacbf10ec99c066a33bdff5"
  },
  "kernelspec": {
   "display_name": "Python 3.10.4 64-bit",
   "language": "python",
   "name": "python3"
  },
  "language_info": {
   "codemirror_mode": {
    "name": "ipython",
    "version": 3
   },
   "file_extension": ".py",
   "mimetype": "text/x-python",
   "name": "python",
   "nbconvert_exporter": "python",
   "pygments_lexer": "ipython3",
   "version": "3.10.4"
  },
  "orig_nbformat": 4
 },
 "nbformat": 4,
 "nbformat_minor": 2
}
