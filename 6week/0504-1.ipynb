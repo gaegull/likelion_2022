{
 "cells": [
  {
   "cell_type": "code",
   "execution_count": 5,
   "metadata": {},
   "outputs": [
    {
     "ename": "SyntaxError",
     "evalue": "unmatched ')' (2221866942.py, line 5)",
     "output_type": "error",
     "traceback": [
      "\u001b[1;36m  Input \u001b[1;32mIn [5]\u001b[1;36m\u001b[0m\n\u001b[1;33m    soup=BeautifulSoup(response.text,'html.parser'))\u001b[0m\n\u001b[1;37m                                                   ^\u001b[0m\n\u001b[1;31mSyntaxError\u001b[0m\u001b[1;31m:\u001b[0m unmatched ')'\n"
     ]
    }
   ],
   "source": [
    "import requests\n",
    "from bs4 import BeautifulSoup\n",
    "from datetime import datetime\n",
    "url = \"http://www.daum.net/\"\n",
    "response=requests.get(url)\n",
    "print(response.text[:500])\n",
    "soup=BeautifulSoup(response.text,'html.parser'))\n",
    "rank=1\n",
    "\n",
    "results=soup.findAll('a','link_favorsch')\n",
    "\n",
    "search_rank_file=open('rankresult.txt','a')\n",
    "\n",
    "print(datetime.today().strftime('%Y년 %m월 %d일의 실시간 검색어 순위입니다.'))\n",
    "\n",
    "for result in results:\n",
    "    search_rank_file.write(str(rank)+'위:'+result.get_text())\n",
    "    print(rank,'위:', result.get_text(),'\\n')\n",
    "    rank+=1"
   ]
  }
 ],
 "metadata": {
  "interpreter": {
   "hash": "ad99b504f8285f1928babc6d67200387d289853acdacbf10ec99c066a33bdff5"
  },
  "kernelspec": {
   "display_name": "Python 3.10.4 64-bit",
   "language": "python",
   "name": "python3"
  },
  "language_info": {
   "name": "python",
   "version": "3.10.4"
  },
  "orig_nbformat": 4
 },
 "nbformat": 4,
 "nbformat_minor": 2
}
