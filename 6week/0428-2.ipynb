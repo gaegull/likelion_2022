{
 "cells": [
  {
   "cell_type": "code",
   "execution_count": 8,
   "metadata": {},
   "outputs": [
    {
     "name": "stdout",
     "output_type": "stream",
     "text": [
      "1. 블루베리20g 넣기\n",
      "2. 얼음 30넣기\n",
      "3. 찬 우유 넣기\n",
      "4. 에스프레소샷 넣기\n"
     ]
    }
   ],
   "source": [
    "def make_dolce():\n",
    "    print('1. 얼음 넣기')\n",
    "    print('2. 연유 30ml넣기')\n",
    "    print('3. 찬 우유 넣기')\n",
    "    print('4. 에스프레소샷 넣기')\n",
    "    \n",
    "def make_blueberry():\n",
    "    print('1. 블루베리20g 넣기')\n",
    "    print('2. 얼음 30넣기')\n",
    "    print('3. 찬 우유 넣기')\n",
    "    print('4. 에스프레소샷 넣기')\n",
    "    \n",
    "def make_latte():\n",
    "    print('1. 커피 넣기')\n",
    "    print('3. 찬 우유 넣기')\n",
    "    print('4. 신나게 섞기')\n",
    "    \n",
    "make_blueberry()"
   ]
  },
  {
   "cell_type": "code",
   "execution_count": 9,
   "metadata": {},
   "outputs": [
    {
     "name": "stdout",
     "output_type": "stream",
     "text": [
      "{'취미는?': '', '특기는?': ''}\n"
     ]
    }
   ],
   "source": [
    "total_dic={}\n",
    "\n",
    "while True:\n",
    "    question=input('질문 입력: ')\n",
    "    if question=='q':\n",
    "        break\n",
    "    else:\n",
    "        total_dic[question]=''\n",
    "\n",
    "print(total_dic)"
   ]
  },
  {
   "cell_type": "code",
   "execution_count": 11,
   "metadata": {},
   "outputs": [
    {
     "name": "stdout",
     "output_type": "stream",
     "text": [
      "취미는?\n",
      "특기는?\n",
      "[{'질문': '취미는?', '답변': '게임하기'}, {'질문': '특기는?', '답변': '고양이 보기'}]\n"
     ]
    }
   ],
   "source": [
    "total_list=[]\n",
    "\n",
    "while True:\n",
    "    question=input('질문 입력: ')\n",
    "    if question=='q':\n",
    "        break\n",
    "    else:\n",
    "        total_list.append({'질문':question,'답변':''})\n",
    "        \n",
    "for i in total_list:\n",
    "    print(i['질문'])\n",
    "    answer=input('답변 입력: ')\n",
    "    i['답변']=answer\n",
    "print(total_list)"
   ]
  }
 ],
 "metadata": {
  "interpreter": {
   "hash": "ad99b504f8285f1928babc6d67200387d289853acdacbf10ec99c066a33bdff5"
  },
  "kernelspec": {
   "display_name": "Python 3.10.4 64-bit",
   "language": "python",
   "name": "python3"
  },
  "language_info": {
   "codemirror_mode": {
    "name": "ipython",
    "version": 3
   },
   "file_extension": ".py",
   "mimetype": "text/x-python",
   "name": "python",
   "nbconvert_exporter": "python",
   "pygments_lexer": "ipython3",
   "version": "3.10.4"
  },
  "orig_nbformat": 4
 },
 "nbformat": 4,
 "nbformat_minor": 2
}
