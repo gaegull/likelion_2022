{
 "cells": [
  {
   "cell_type": "code",
   "execution_count": 2,
   "metadata": {},
   "outputs": [
    {
     "name": "stdout",
     "output_type": "stream",
     "text": [
      "칼국수 마라탕\n"
     ]
    }
   ],
   "source": [
    "import random\n",
    "lunch=random.choice(['김밥','샌드위치','칼국수'])\n",
    "dinner=random.choice(['마라탕','초밥','쌀국수'])\n",
    "print(lunch, dinner)"
   ]
  },
  {
   "cell_type": "code",
   "execution_count": 3,
   "metadata": {},
   "outputs": [
    {
     "name": "stdout",
     "output_type": "stream",
     "text": [
      "{'고향': '서울', '취미': '게임', '좋아하는음식': '마라'}\n",
      "마라\n"
     ]
    }
   ],
   "source": [
    "information={'고향':'서울','취미':'게임','좋아하는음식':'마라'}\n",
    "print(information)\n",
    "print(information.get('좋아하는음식'))"
   ]
  },
  {
   "cell_type": "code",
   "execution_count": 7,
   "metadata": {},
   "outputs": [
    {
     "name": "stdout",
     "output_type": "stream",
     "text": [
      "{'고향': '서울', '취미': '게임', '좋아하는음식': '마라', '특기': '암기'}\n",
      "{'고향': '서울', '취미': '게임', '특기': '암기'}\n",
      "3\n",
      "{}\n"
     ]
    }
   ],
   "source": [
    "information={'고향':'서울','취미':'게임','좋아하는음식':'마라'}\n",
    "information['특기']='암기'\n",
    "print(information)\n",
    "del information['좋아하는음식']\n",
    "print(information)\n",
    "print(len(information))\n",
    "information.clear()\n",
    "print(information)"
   ]
  },
  {
   "cell_type": "code",
   "execution_count": 10,
   "metadata": {},
   "outputs": [
    {
     "name": "stdout",
     "output_type": "stream",
     "text": [
      "마라탕\n",
      "['피자', '마라탕', '김밥']\n"
     ]
    }
   ],
   "source": [
    "foods=['피자','팟타이','마라탕']\n",
    "print(foods[2])\n",
    "foods.append('김밥')\n",
    "del foods[1]\n",
    "print(foods)\n"
   ]
  },
  {
   "cell_type": "code",
   "execution_count": 15,
   "metadata": {},
   "outputs": [
    {
     "name": "stdout",
     "output_type": "stream",
     "text": [
      "피자\n",
      "팟타이\n",
      "마라탕\n",
      "고향\n",
      "서울\n",
      "취미\n",
      "게임\n",
      "좋아하는음식\n",
      "마라\n"
     ]
    }
   ],
   "source": [
    "foods=['피자','팟타이','마라탕']\n",
    "for i in foods:\n",
    "    print(i)\n",
    "\n",
    "information={'고향':'서울','취미':'게임','좋아하는음식':'마라'}\n",
    "for x,y in information.items():\n",
    "    print(x)\n",
    "    print(y)"
   ]
  },
  {
   "cell_type": "code",
   "execution_count": 17,
   "metadata": {},
   "outputs": [
    {
     "name": "stdout",
     "output_type": "stream",
     "text": [
      "{'마라탕', '팟타이', '피자'} {'마라탕', '팟타이', '피자'}\n"
     ]
    }
   ],
   "source": [
    "foods=['피자','팟타이','마라탕']\n",
    "foods_set1=set(foods)\n",
    "foods_set2=set(['피자','팟타이','마라탕'])\n",
    "print(foods_set1,foods_set2)"
   ]
  },
  {
   "cell_type": "code",
   "execution_count": 24,
   "metadata": {},
   "outputs": [
    {
     "name": "stdout",
     "output_type": "stream",
     "text": [
      "{'파스타', '리조또'}\n"
     ]
    }
   ],
   "source": [
    "menu1=set(['피자','파스타','리조또'])\n",
    "menu2=set(['마라탕','꿔바로우','볶음밥','피자'])\n",
    "menu3=menu1-menu2\n",
    "print(menu3)"
   ]
  },
  {
   "cell_type": "code",
   "execution_count": 36,
   "metadata": {},
   "outputs": [
    {
     "name": "stdout",
     "output_type": "stream",
     "text": [
      "그냥 주세요.\n",
      "종료\n"
     ]
    }
   ],
   "source": [
    "import random\n",
    "foods=random.choice(['피자','팟타이','마라탕'])\n",
    "if foods=='팟타이':\n",
    "    print('많이 주세용')\n",
    "else:\n",
    "    print('그냥 주세요.')\n",
    "print('종료')"
   ]
  },
  {
   "cell_type": "code",
   "execution_count": 39,
   "metadata": {},
   "outputs": [
    {
     "name": "stdout",
     "output_type": "stream",
     "text": [
      "['김밥', '샌드위치', '칼국수', '마라탕']\n",
      "['김밥', '샌드위치', '칼국수', '마라탕', '김밥']\n",
      "['김밥', '샌드위치', '칼국수', '마라탕', '김밥', '돈까스']\n",
      "['김밥', '샌드위치', '칼국수', '마라탕', '김밥', '돈까스', '']\n",
      "['김밥', '샌드위치', '칼국수', '마라탕', '김밥', '돈까스', '', '']\n",
      "['김밥', '샌드위치', '칼국수', '마라탕', '김밥', '돈까스', '', '', '']\n",
      "['김밥', '샌드위치', '칼국수', '마라탕', '김밥', '돈까스', '', '', '', '']\n"
     ]
    },
    {
     "ename": "KeyboardInterrupt",
     "evalue": "Interrupted by user",
     "output_type": "error",
     "traceback": [
      "\u001b[1;31m---------------------------------------------------------------------------\u001b[0m",
      "\u001b[1;31mKeyboardInterrupt\u001b[0m                         Traceback (most recent call last)",
      "\u001b[1;32mc:\\Users\\LeeSang\\Desktop\\likelion\\python\\0428.ipynb Cell 9'\u001b[0m in \u001b[0;36m<cell line: 2>\u001b[1;34m()\u001b[0m\n\u001b[0;32m      <a href='vscode-notebook-cell:/c%3A/Users/LeeSang/Desktop/likelion/python/0428.ipynb#ch0000008?line=0'>1</a>\u001b[0m lunch\u001b[39m=\u001b[39m[\u001b[39m'\u001b[39m\u001b[39m김밥\u001b[39m\u001b[39m'\u001b[39m,\u001b[39m'\u001b[39m\u001b[39m샌드위치\u001b[39m\u001b[39m'\u001b[39m,\u001b[39m'\u001b[39m\u001b[39m칼국수\u001b[39m\u001b[39m'\u001b[39m]\n\u001b[0;32m      <a href='vscode-notebook-cell:/c%3A/Users/LeeSang/Desktop/likelion/python/0428.ipynb#ch0000008?line=1'>2</a>\u001b[0m \u001b[39mwhile\u001b[39;00m \u001b[39mTrue\u001b[39;00m:\n\u001b[1;32m----> <a href='vscode-notebook-cell:/c%3A/Users/LeeSang/Desktop/likelion/python/0428.ipynb#ch0000008?line=2'>3</a>\u001b[0m     item\u001b[39m=\u001b[39m\u001b[39minput\u001b[39;49m(\u001b[39m'\u001b[39;49m\u001b[39m음식 추가: \u001b[39;49m\u001b[39m'\u001b[39;49m)\n\u001b[0;32m      <a href='vscode-notebook-cell:/c%3A/Users/LeeSang/Desktop/likelion/python/0428.ipynb#ch0000008?line=3'>4</a>\u001b[0m     lunch\u001b[39m.\u001b[39mappend(item)\n\u001b[0;32m      <a href='vscode-notebook-cell:/c%3A/Users/LeeSang/Desktop/likelion/python/0428.ipynb#ch0000008?line=4'>5</a>\u001b[0m     \u001b[39mprint\u001b[39m(lunch)\n",
      "File \u001b[1;32m~\\AppData\\Local\\Programs\\Python\\Python310\\lib\\site-packages\\ipykernel\\kernelbase.py:1161\u001b[0m, in \u001b[0;36mKernel.raw_input\u001b[1;34m(self, prompt)\u001b[0m\n\u001b[0;32m   <a href='file:///c%3A/Users/LeeSang/AppData/Local/Programs/Python/Python310/lib/site-packages/ipykernel/kernelbase.py?line=1156'>1157</a>\u001b[0m \u001b[39mif\u001b[39;00m \u001b[39mnot\u001b[39;00m \u001b[39mself\u001b[39m\u001b[39m.\u001b[39m_allow_stdin:\n\u001b[0;32m   <a href='file:///c%3A/Users/LeeSang/AppData/Local/Programs/Python/Python310/lib/site-packages/ipykernel/kernelbase.py?line=1157'>1158</a>\u001b[0m     \u001b[39mraise\u001b[39;00m StdinNotImplementedError(\n\u001b[0;32m   <a href='file:///c%3A/Users/LeeSang/AppData/Local/Programs/Python/Python310/lib/site-packages/ipykernel/kernelbase.py?line=1158'>1159</a>\u001b[0m         \u001b[39m\"\u001b[39m\u001b[39mraw_input was called, but this frontend does not support input requests.\u001b[39m\u001b[39m\"\u001b[39m\n\u001b[0;32m   <a href='file:///c%3A/Users/LeeSang/AppData/Local/Programs/Python/Python310/lib/site-packages/ipykernel/kernelbase.py?line=1159'>1160</a>\u001b[0m     )\n\u001b[1;32m-> <a href='file:///c%3A/Users/LeeSang/AppData/Local/Programs/Python/Python310/lib/site-packages/ipykernel/kernelbase.py?line=1160'>1161</a>\u001b[0m \u001b[39mreturn\u001b[39;00m \u001b[39mself\u001b[39;49m\u001b[39m.\u001b[39;49m_input_request(\n\u001b[0;32m   <a href='file:///c%3A/Users/LeeSang/AppData/Local/Programs/Python/Python310/lib/site-packages/ipykernel/kernelbase.py?line=1161'>1162</a>\u001b[0m     \u001b[39mstr\u001b[39;49m(prompt),\n\u001b[0;32m   <a href='file:///c%3A/Users/LeeSang/AppData/Local/Programs/Python/Python310/lib/site-packages/ipykernel/kernelbase.py?line=1162'>1163</a>\u001b[0m     \u001b[39mself\u001b[39;49m\u001b[39m.\u001b[39;49m_parent_ident[\u001b[39m\"\u001b[39;49m\u001b[39mshell\u001b[39;49m\u001b[39m\"\u001b[39;49m],\n\u001b[0;32m   <a href='file:///c%3A/Users/LeeSang/AppData/Local/Programs/Python/Python310/lib/site-packages/ipykernel/kernelbase.py?line=1163'>1164</a>\u001b[0m     \u001b[39mself\u001b[39;49m\u001b[39m.\u001b[39;49mget_parent(\u001b[39m\"\u001b[39;49m\u001b[39mshell\u001b[39;49m\u001b[39m\"\u001b[39;49m),\n\u001b[0;32m   <a href='file:///c%3A/Users/LeeSang/AppData/Local/Programs/Python/Python310/lib/site-packages/ipykernel/kernelbase.py?line=1164'>1165</a>\u001b[0m     password\u001b[39m=\u001b[39;49m\u001b[39mFalse\u001b[39;49;00m,\n\u001b[0;32m   <a href='file:///c%3A/Users/LeeSang/AppData/Local/Programs/Python/Python310/lib/site-packages/ipykernel/kernelbase.py?line=1165'>1166</a>\u001b[0m )\n",
      "File \u001b[1;32m~\\AppData\\Local\\Programs\\Python\\Python310\\lib\\site-packages\\ipykernel\\kernelbase.py:1205\u001b[0m, in \u001b[0;36mKernel._input_request\u001b[1;34m(self, prompt, ident, parent, password)\u001b[0m\n\u001b[0;32m   <a href='file:///c%3A/Users/LeeSang/AppData/Local/Programs/Python/Python310/lib/site-packages/ipykernel/kernelbase.py?line=1201'>1202</a>\u001b[0m             \u001b[39mbreak\u001b[39;00m\n\u001b[0;32m   <a href='file:///c%3A/Users/LeeSang/AppData/Local/Programs/Python/Python310/lib/site-packages/ipykernel/kernelbase.py?line=1202'>1203</a>\u001b[0m \u001b[39mexcept\u001b[39;00m \u001b[39mKeyboardInterrupt\u001b[39;00m:\n\u001b[0;32m   <a href='file:///c%3A/Users/LeeSang/AppData/Local/Programs/Python/Python310/lib/site-packages/ipykernel/kernelbase.py?line=1203'>1204</a>\u001b[0m     \u001b[39m# re-raise KeyboardInterrupt, to truncate traceback\u001b[39;00m\n\u001b[1;32m-> <a href='file:///c%3A/Users/LeeSang/AppData/Local/Programs/Python/Python310/lib/site-packages/ipykernel/kernelbase.py?line=1204'>1205</a>\u001b[0m     \u001b[39mraise\u001b[39;00m \u001b[39mKeyboardInterrupt\u001b[39;00m(\u001b[39m\"\u001b[39m\u001b[39mInterrupted by user\u001b[39m\u001b[39m\"\u001b[39m) \u001b[39mfrom\u001b[39;00m \u001b[39mNone\u001b[39m\n\u001b[0;32m   <a href='file:///c%3A/Users/LeeSang/AppData/Local/Programs/Python/Python310/lib/site-packages/ipykernel/kernelbase.py?line=1205'>1206</a>\u001b[0m \u001b[39mexcept\u001b[39;00m \u001b[39mException\u001b[39;00m:\n\u001b[0;32m   <a href='file:///c%3A/Users/LeeSang/AppData/Local/Programs/Python/Python310/lib/site-packages/ipykernel/kernelbase.py?line=1206'>1207</a>\u001b[0m     \u001b[39mself\u001b[39m\u001b[39m.\u001b[39mlog\u001b[39m.\u001b[39mwarning(\u001b[39m\"\u001b[39m\u001b[39mInvalid Message:\u001b[39m\u001b[39m\"\u001b[39m, exc_info\u001b[39m=\u001b[39m\u001b[39mTrue\u001b[39;00m)\n",
      "\u001b[1;31mKeyboardInterrupt\u001b[0m: Interrupted by user"
     ]
    }
   ],
   "source": [
    "lunch=['김밥','샌드위치','칼국수']\n",
    "while True:\n",
    "    item=input('음식 추가: ')\n",
    "    lunch.append(item)\n",
    "    print(lunch)"
   ]
  },
  {
   "cell_type": "code",
   "execution_count": 41,
   "metadata": {},
   "outputs": [
    {
     "name": "stdout",
     "output_type": "stream",
     "text": [
      "['김밥', '샌드위치', '칼국수']\n",
      "['김밥', '샌드위치', '칼국수', '마라탕']\n",
      "['김밥', '샌드위치', '칼국수', '마라탕', '돈까스']\n"
     ]
    }
   ],
   "source": [
    "lunch=['김밥','샌드위치','칼국수']\n",
    "while True:\n",
    "    print(lunch)\n",
    "    item=input('음식 추가: ')\n",
    "    if item=='q':\n",
    "        break\n",
    "    else:\n",
    "        lunch.append(item)\n",
    "        \n",
    "set_lunch=set(lunch)"
   ]
  },
  {
   "cell_type": "code",
   "execution_count": 46,
   "metadata": {},
   "outputs": [
    {
     "name": "stdout",
     "output_type": "stream",
     "text": [
      "{'칼국수', '김밥', '샌드위치'}\n"
     ]
    }
   ],
   "source": [
    "set_lunch=set(['김밥','샌드위치','칼국수','마라탕'])\n",
    "item='마라탕'\n",
    "set_lunch=set_lunch-set([item])\n",
    "print(set_lunch)"
   ]
  },
  {
   "cell_type": "code",
   "execution_count": 50,
   "metadata": {},
   "outputs": [
    {
     "name": "stdout",
     "output_type": "stream",
     "text": [
      "['김밥', '샌드위치', '칼국수']\n",
      "['김밥', '샌드위치', '칼국수', '마라탕']\n",
      "['김밥', '샌드위치', '칼국수', '마라탕', '꿔바로우']\n",
      "{'샌드위치', '마라탕', '꿔바로우', '칼국수', '김밥'}\n",
      "{'마라탕', '꿔바로우', '칼국수', '김밥'}\n",
      "{'마라탕', '꿔바로우', '김밥'}\n",
      "{'마라탕', '꿔바로우', '김밥'} 중에서 선택.\n",
      "5\n",
      "4\n",
      "3\n",
      "2\n",
      "1\n",
      "마라탕\n"
     ]
    }
   ],
   "source": [
    "import random\n",
    "import time\n",
    "\n",
    "lunch=['김밥','샌드위치','칼국수']\n",
    "while True:\n",
    "    print(lunch)\n",
    "    item=input('음식 추가: ')\n",
    "    if item=='q':\n",
    "        break\n",
    "    else:\n",
    "        lunch.append(item)\n",
    "        \n",
    "set_lunch=set(lunch)\n",
    "while True:\n",
    "    print(set_lunch)\n",
    "    item=input('음식 삭제: ')\n",
    "    if item=='q':\n",
    "        break\n",
    "    else:\n",
    "        set_lunch=set_lunch-set([item])\n",
    "        \n",
    "print(set_lunch,'중에서 선택.')\n",
    "print('5')\n",
    "time.sleep(1)\n",
    "print('4')\n",
    "time.sleep(1)\n",
    "print('3')\n",
    "time.sleep(1)\n",
    "print('2')\n",
    "time.sleep(1)\n",
    "print('1')\n",
    "time.sleep(1)\n",
    "print(random.choice(list(set_lunch)))"
   ]
  }
 ],
 "metadata": {
  "interpreter": {
   "hash": "ad99b504f8285f1928babc6d67200387d289853acdacbf10ec99c066a33bdff5"
  },
  "kernelspec": {
   "display_name": "Python 3.10.4 64-bit",
   "language": "python",
   "name": "python3"
  },
  "language_info": {
   "codemirror_mode": {
    "name": "ipython",
    "version": 3
   },
   "file_extension": ".py",
   "mimetype": "text/x-python",
   "name": "python",
   "nbconvert_exporter": "python",
   "pygments_lexer": "ipython3",
   "version": "3.10.4"
  },
  "orig_nbformat": 4
 },
 "nbformat": 4,
 "nbformat_minor": 2
}
